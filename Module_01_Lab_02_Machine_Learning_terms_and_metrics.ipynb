{
  "nbformat": 4,
  "nbformat_minor": 0,
  "metadata": {
    "colab": {
      "provenance": [],
      "authorship_tag": "ABX9TyPxYYKjLWHtlShoz/slyALZ",
      "include_colab_link": true
    },
    "kernelspec": {
      "name": "python3",
      "display_name": "Python 3"
    },
    "language_info": {
      "name": "python"
    }
  },
  "cells": [
    {
      "cell_type": "markdown",
      "metadata": {
        "id": "view-in-github",
        "colab_type": "text"
      },
      "source": [
        "<a href=\"https://colab.research.google.com/github/raza-abidii/raza_projects_labs/blob/main/Module_01_Lab_02_Machine_Learning_terms_and_metrics.ipynb\" target=\"_parent\"><img src=\"https://colab.research.google.com/assets/colab-badge.svg\" alt=\"Open In Colab\"/></a>"
      ]
    },
    {
      "cell_type": "markdown",
      "source": [
        "# Machine Learning terms and metrics\n",
        "\n",
        "Module 1, Lab 2\n",
        "\n",
        "In this lab, we will show a part of the ML pipeline by using the California Housing dataset. There are 20640 samples, each with 8 attributes like income of the block, age of the houses per district etc. The task is to predict the cost of the houses per district. We will use the scikit-learn library to load the data and perform some basic data preprocessing and model training. We will also show how to evaluate the model using some common metrics, split the data into training and testing sets, and use cross-validation to get a better estimate of the model's performance."
      ],
      "metadata": {
        "id": "lfV7vePs23ll"
      }
    },
    {
      "cell_type": "code",
      "execution_count": null,
      "metadata": {
        "id": "JUJGd-Bf2nO3"
      },
      "outputs": [],
      "source": [
        "import numpy as np\n",
        "from sklearn import datasets\n",
        "import matplotlib.pyplot as plt\n",
        "\n",
        "rng = np.random.default_rng(seed=50)"
      ]
    },
    {
      "cell_type": "code",
      "source": [
        "dataset = datasets.fetch_california_housing()\n",
        "print(dataset.DESCR)"
      ],
      "metadata": {
        "colab": {
          "base_uri": "https://localhost:8080/"
        },
        "id": "c9juMh--26Sg",
        "outputId": "e8abd97d-9265-4d31-d7e2-320ce143b448"
      },
      "execution_count": null,
      "outputs": [
        {
          "output_type": "stream",
          "name": "stdout",
          "text": [
            ".. _california_housing_dataset:\n",
            "\n",
            "California Housing dataset\n",
            "--------------------------\n",
            "\n",
            "**Data Set Characteristics:**\n",
            "\n",
            ":Number of Instances: 20640\n",
            "\n",
            ":Number of Attributes: 8 numeric, predictive attributes and the target\n",
            "\n",
            ":Attribute Information:\n",
            "    - MedInc        median income in block group\n",
            "    - HouseAge      median house age in block group\n",
            "    - AveRooms      average number of rooms per household\n",
            "    - AveBedrms     average number of bedrooms per household\n",
            "    - Population    block group population\n",
            "    - AveOccup      average number of household members\n",
            "    - Latitude      block group latitude\n",
            "    - Longitude     block group longitude\n",
            "\n",
            ":Missing Attribute Values: None\n",
            "\n",
            "This dataset was obtained from the StatLib repository.\n",
            "https://www.dcc.fc.up.pt/~ltorgo/Regression/cal_housing.html\n",
            "\n",
            "The target variable is the median house value for California districts,\n",
            "expressed in hundreds of thousands of dollars ($100,000).\n",
            "\n",
            "This dataset was derived from the 1990 U.S. census, using one row per census\n",
            "block group. A block group is the smallest geographical unit for which the U.S.\n",
            "Census Bureau publishes sample data (a block group typically has a population\n",
            "of 600 to 3,000 people).\n",
            "\n",
            "A household is a group of people residing within a home. Since the average\n",
            "number of rooms and bedrooms in this dataset are provided per household, these\n",
            "columns may take surprisingly large values for block groups with few households\n",
            "and many empty houses, such as vacation resorts.\n",
            "\n",
            "It can be downloaded/loaded using the\n",
            ":func:`sklearn.datasets.fetch_california_housing` function.\n",
            "\n",
            ".. rubric:: References\n",
            "\n",
            "- Pace, R. Kelley and Ronald Barry, Sparse Spatial Autoregressions,\n",
            "  Statistics and Probability Letters, 33 (1997) 291-297\n",
            "\n"
          ]
        }
      ]
    },
    {
      "cell_type": "code",
      "source": [
        "print(\"Orignal target values:\", dataset.target)\n",
        "\n",
        "dataset.target = dataset.target.astype(int)\n",
        "\n",
        "print(\"Target values after conversion:\", dataset.target)\n",
        "print(\"Input variables shape:\", dataset.data.shape)\n",
        "print(\"Output variables shape:\", dataset.target.shape)"
      ],
      "metadata": {
        "colab": {
          "base_uri": "https://localhost:8080/"
        },
        "id": "Rh5pFVka3AkD",
        "outputId": "a575f0ec-2685-4d92-a5dc-6062abafb912"
      },
      "execution_count": null,
      "outputs": [
        {
          "output_type": "stream",
          "name": "stdout",
          "text": [
            "Orignal target values: [4.526 3.585 3.521 ... 0.923 0.847 0.894]\n",
            "Target values after conversion: [4 3 3 ... 0 0 0]\n",
            "Input variables shape: (20640, 8)\n",
            "Output variables shape: (20640,)\n"
          ]
        }
      ]
    },
    {
      "source": [
        "def NN1(traindata, trainlabel, query):\n",
        "    dist = np.linalg.norm(traindata - query, axis=1)\n",
        "    label = trainlabel[np.argmin(dist)]\n",
        "    return label\n",
        "\n",
        "def NN(traindata, trainlabel, testdata):\n",
        "    predlabel = np.array([NN1(traindata, trainlabel, i) for i in testdata])\n",
        "    return predlabel"
      ],
      "cell_type": "code",
      "metadata": {
        "id": "Xt-n3Zrp3KR5"
      },
      "execution_count": null,
      "outputs": []
    },
    {
      "cell_type": "code",
      "source": [
        "def RandomClassifier(traindata, trainlabel, testdata):\n",
        "    classes = np.unique(trainlabel)\n",
        "    rints = rng.integers(low=0, high=len(classes), size=len(testdata))\n",
        "    predlabel = classes[rints]\n",
        "    return predlabel"
      ],
      "metadata": {
        "id": "Gzj4vtQw3GUc"
      },
      "execution_count": null,
      "outputs": []
    },
    {
      "cell_type": "code",
      "source": [
        "def Accuracy(gtlabel, predlabel):\n",
        "    assert len(gtlabel) == len(\n",
        "        predlabel\n",
        "    ), \"Length of the ground-truth labels and predicted labels should be the same\"\n",
        "    correct = (\n",
        "        gtlabel == predlabel\n",
        "    ).sum()\n",
        "    return correct / len(gtlabel)"
      ],
      "metadata": {
        "id": "1tbaV-DF3Nb4"
      },
      "execution_count": null,
      "outputs": []
    },
    {
      "cell_type": "code",
      "source": [
        "def split(data, label, percent):\n",
        "    rnd = rng.random(len(label))\n",
        "    split1 = rnd < percent\n",
        "    split2 = rnd >= percent\n",
        "\n",
        "    split1data = data[split1, :]\n",
        "    split1label = label[split1]\n",
        "    split2data = data[split2, :]\n",
        "    split2label = label[split2]\n",
        "    return split1data, split1label, split2data, split2label"
      ],
      "metadata": {
        "id": "xlPVB0H43QyP"
      },
      "execution_count": null,
      "outputs": []
    },
    {
      "cell_type": "code",
      "source": [
        "testdata, testlabel, alltraindata, alltrainlabel = split(\n",
        "    dataset.data, dataset.target, 20 / 100\n",
        ")\n",
        "print(\"Number of test samples:\", len(testlabel))\n",
        "print(\"Number of train samples:\", len(alltrainlabel))\n",
        "print(\"Percent of test data:\", len(testlabel) * 100 / len(dataset.target), \"%\")"
      ],
      "metadata": {
        "colab": {
          "base_uri": "https://localhost:8080/"
        },
        "id": "0nrcgfQy3U00",
        "outputId": "d7a58833-69dc-4678-f4be-d134f5073cda"
      },
      "execution_count": null,
      "outputs": [
        {
          "output_type": "stream",
          "name": "stdout",
          "text": [
            "Number of test samples: 4101\n",
            "Number of train samples: 16539\n",
            "Percent of test data: 19.86918604651163 %\n"
          ]
        }
      ]
    },
    {
      "cell_type": "markdown",
      "source": [
        "## Experiments with splits\n",
        "\n",
        "Let us reserve some of our train data as a validation set"
      ],
      "metadata": {
        "id": "AF7oWpGG3XlL"
      }
    },
    {
      "cell_type": "code",
      "source": [
        "traindata, trainlabel, valdata, vallabel = split(\n",
        "    alltraindata, alltrainlabel, 75 / 100)"
      ],
      "metadata": {
        "id": "F7hb-W7h3WIq"
      },
      "execution_count": null,
      "outputs": []
    },
    {
      "cell_type": "code",
      "source": [
        "trainpred = NN(traindata, trainlabel, traindata)\n",
        "trainAccuracy = Accuracy(trainlabel, trainpred)\n",
        "print(\"Training accuracy using nearest neighbour algorithm:\", trainAccuracy*100, \"%\")\n",
        "\n",
        "trainpred = RandomClassifier(traindata, trainlabel, traindata)\n",
        "trainAccuracy = Accuracy(trainlabel, trainpred)\n",
        "print(\"Training accuracy using random classifier: \", trainAccuracy*100, \"%\")"
      ],
      "metadata": {
        "colab": {
          "base_uri": "https://localhost:8080/"
        },
        "id": "PsK9Nlkx3Zg3",
        "outputId": "142c7e94-b7d5-472c-a4e9-7a6df1d0a3f1"
      },
      "execution_count": null,
      "outputs": [
        {
          "output_type": "stream",
          "name": "stdout",
          "text": [
            "Training accuracy using nearest neighbour algorithm: 100.0 %\n",
            "Training accuracy using random classifier:  16.266173752310536 %\n"
          ]
        }
      ]
    },
    {
      "cell_type": "markdown",
      "source": [
        "For nearest neighbour, the train accuracy is always 1. The accuracy of the random classifier is close to 1/(number of classes) which is 0.1666 in our case. This is because the random classifier randomly assigns a label to each sample and the probability of assigning the correct label is 1/(number of classes). Let us predict the labels for our validation set and get the accuracy. This accuracy is a good estimate of the accuracy of our model on unseen data."
      ],
      "metadata": {
        "id": "tXjWvuqO3d07"
      }
    },
    {
      "cell_type": "code",
      "source": [
        "valpred = NN(traindata, trainlabel, valdata)\n",
        "valAccuracy = Accuracy(vallabel, valpred)\n",
        "print(\"Validation accuracy using nearest neighbour algorithm:\", valAccuracy*100, \"%\")\n",
        "\n",
        "\n",
        "valpred = RandomClassifier(traindata, trainlabel, valdata)\n",
        "valAccuracy = Accuracy(vallabel, valpred)\n",
        "print(\"Validation accuracy using random classifier:\", valAccuracy*100, \"%\")"
      ],
      "metadata": {
        "colab": {
          "base_uri": "https://localhost:8080/"
        },
        "id": "BHj4D-qv3axC",
        "outputId": "ec0a5dcd-9d6a-4333-8840-cdf03e312d65"
      },
      "execution_count": null,
      "outputs": [
        {
          "output_type": "stream",
          "name": "stdout",
          "text": [
            "Validation accuracy using nearest neighbour algorithm: 34.375 %\n",
            "Validation accuracy using random classifier: 15.3564453125 %\n"
          ]
        }
      ]
    },
    {
      "cell_type": "markdown",
      "source": [
        "Validation accuracy of nearest neighbour is considerably less than its train accuracy while the validation accuracy of random classifier is the same. However, the validation accuracy of nearest neighbour is twice that of the random classifier. Now let us try another random split and check the validation accuracy. We will see that the validation accuracy changes with the split. This is because the validation set is small and the accuracy is highly dependent on the samples in the validation set. We can get a better estimate of the accuracy by using cross-validation."
      ],
      "metadata": {
        "id": "0Dyh9xPM3lMk"
      }
    },
    {
      "cell_type": "code",
      "source": [
        "traindata, trainlabel, valdata, vallabel = split(\n",
        "    alltraindata, alltrainlabel, 75 / 100)\n",
        "valpred = NN(traindata, trainlabel, valdata)\n",
        "valAccuracy = Accuracy(vallabel, valpred)\n",
        "print(\"Validation accuracy using nearest neighbour algorithm:\", valAccuracy*100, \"%\")"
      ],
      "metadata": {
        "colab": {
          "base_uri": "https://localhost:8080/"
        },
        "id": "hi4TeOJu3fiJ",
        "outputId": "242fb2d4-3eb4-4ad4-e63f-c260832f6117"
      },
      "execution_count": null,
      "outputs": [
        {
          "output_type": "stream",
          "name": "stdout",
          "text": [
            "Validation accuracy using nearest neighbour algorithm: 34.37876960193004 %\n"
          ]
        }
      ]
    },
    {
      "cell_type": "code",
      "source": [
        "testpred = NN(alltraindata, alltrainlabel, testdata)\n",
        "testAccuracy = Accuracy(testlabel, testpred)\n",
        "\n",
        "print(\"Test accuracy:\", testAccuracy*100, \"%\")"
      ],
      "metadata": {
        "colab": {
          "base_uri": "https://localhost:8080/"
        },
        "id": "-OcO6B5_3moY",
        "outputId": "d287fb95-00ee-44d8-c83f-b0c1c6e2a5c9"
      },
      "execution_count": null,
      "outputs": [
        {
          "output_type": "stream",
          "name": "stdout",
          "text": [
            "Test accuracy: 34.893928310168256 %\n"
          ]
        }
      ]
    },
    {
      "cell_type": "markdown",
      "source": [
        "### Try it out yourself\n",
        "1. How is the accuracy of the validation set affected if we increase the percentage of validation set? What happens when we reduce it?\n",
        "2. How does the size of the train and validation set affect how well we can predict the accuracy on the test set using the validation set?\n",
        "3. What do you think is a good percentage to reserve for the validation set so that thest two factors are balanced?\n"
      ],
      "metadata": {
        "id": "RMaNAzBU361M"
      }
    },
    {
      "source": [
        "# Experiment with different validation percentages\n",
        "val_percentages = [0.1, 1, 5, 10, 20, 30, 40, 50, 60, 70, 80, 90, 95, 99, 99.9]\n",
        "nn_val_accuracies = []\n",
        "rc_val_accuracies = []\n",
        "\n",
        "for val_percent in val_percentages:\n",
        "    traindata, trainlabel, valdata, vallabel = split(\n",
        "        alltraindata, alltrainlabel, val_percent / 100)\n",
        "\n",
        "    # Nearest Neighbor\n",
        "    valpred_nn = NN(traindata, trainlabel, valdata)\n",
        "    valAccuracy_nn = Accuracy(vallabel, valpred_nn)\n",
        "    nn_val_accuracies.append(valAccuracy_nn)\n",
        "\n",
        "    # Random Classifier\n",
        "    valpred_rc = RandomClassifier(traindata, trainlabel, valdata)\n",
        "    valAccuracy_rc = Accuracy(vallabel, valpred_rc)\n",
        "    rc_val_accuracies.append(valAccuracy_rc)\n",
        "\n",
        "    print(f\"Validation Percentage: {val_percent}%\")\n",
        "    print(f\"NN Validation Accuracy: {valAccuracy_nn*100:.2f}%\")\n",
        "    print(f\"Random Classifier Validation Accuracy: {valAccuracy_rc*100:.2f}%\\n\")\n",
        "\n",
        "# Plotting the results\n",
        "plt.figure(figsize=(10, 6))\n",
        "plt.plot(val_percentages, nn_val_accuracies, marker='o', label='Nearest Neighbor')\n",
        "plt.plot(val_percentages, rc_val_accuracies, marker='o', label='Random Classifier')\n",
        "plt.xlabel('Validation Set Percentage')\n",
        "plt.ylabel('Validation Accuracy')\n",
        "plt.title('Validation Accuracy vs. Validation Set Percentage')\n",
        "plt.legend()\n",
        "plt.grid(True)\n",
        "plt.show()"
      ],
      "cell_type": "code",
      "metadata": {
        "colab": {
          "base_uri": "https://localhost:8080/",
          "height": 1000
        },
        "id": "BDV-rgAx35uJ",
        "outputId": "191cd289-18dd-4f31-f330-51574b76ef39"
      },
      "execution_count": null,
      "outputs": [
        {
          "output_type": "stream",
          "name": "stdout",
          "text": [
            "Validation Percentage: 0.1%\n",
            "NN Validation Accuracy: 26.70%\n",
            "Random Classifier Validation Accuracy: 19.08%\n",
            "\n",
            "Validation Percentage: 1%\n",
            "NN Validation Accuracy: 25.86%\n",
            "Random Classifier Validation Accuracy: 16.20%\n",
            "\n",
            "Validation Percentage: 5%\n",
            "NN Validation Accuracy: 28.19%\n",
            "Random Classifier Validation Accuracy: 16.42%\n",
            "\n",
            "Validation Percentage: 10%\n",
            "NN Validation Accuracy: 28.82%\n",
            "Random Classifier Validation Accuracy: 16.37%\n",
            "\n",
            "Validation Percentage: 20%\n",
            "NN Validation Accuracy: 31.41%\n",
            "Random Classifier Validation Accuracy: 16.60%\n",
            "\n",
            "Validation Percentage: 30%\n",
            "NN Validation Accuracy: 31.58%\n",
            "Random Classifier Validation Accuracy: 16.68%\n",
            "\n",
            "Validation Percentage: 40%\n",
            "NN Validation Accuracy: 33.00%\n",
            "Random Classifier Validation Accuracy: 16.38%\n",
            "\n",
            "Validation Percentage: 50%\n",
            "NN Validation Accuracy: 32.72%\n",
            "Random Classifier Validation Accuracy: 16.29%\n",
            "\n",
            "Validation Percentage: 60%\n",
            "NN Validation Accuracy: 33.55%\n",
            "Random Classifier Validation Accuracy: 16.94%\n",
            "\n",
            "Validation Percentage: 70%\n",
            "NN Validation Accuracy: 33.73%\n",
            "Random Classifier Validation Accuracy: 17.43%\n",
            "\n",
            "Validation Percentage: 80%\n",
            "NN Validation Accuracy: 34.08%\n",
            "Random Classifier Validation Accuracy: 16.37%\n",
            "\n",
            "Validation Percentage: 90%\n",
            "NN Validation Accuracy: 35.15%\n",
            "Random Classifier Validation Accuracy: 16.21%\n",
            "\n",
            "Validation Percentage: 95%\n",
            "NN Validation Accuracy: 34.93%\n",
            "Random Classifier Validation Accuracy: 15.85%\n",
            "\n",
            "Validation Percentage: 99%\n",
            "NN Validation Accuracy: 32.10%\n",
            "Random Classifier Validation Accuracy: 15.43%\n",
            "\n",
            "Validation Percentage: 99.9%\n",
            "NN Validation Accuracy: 24.00%\n",
            "Random Classifier Validation Accuracy: 12.00%\n",
            "\n"
          ]
        },
        {
          "output_type": "display_data",
          "data": {
            "text/plain": [
              "<Figure size 1000x600 with 1 Axes>"
            ],
            "image/png": "[encoded data removed]"
          },
          "metadata": {}
        }
      ]
    },
    {
      "cell_type": "markdown",
      "source": [
        "## Multiple Splits\n"
      ],
      "metadata": {
        "id": "J5iRKpkF4OuM"
      }
    },
    {
      "cell_type": "code",
      "source": [
        "def AverageAccuracy(alldata, alllabel, splitpercent, iterations, classifier=NN):\n",
        "    accuracy = 0\n",
        "    for ii in range(iterations):\n",
        "        traindata, trainlabel, valdata, vallabel = split(\n",
        "            alldata, alllabel, splitpercent\n",
        "        )\n",
        "        valpred = classifier(traindata, trainlabel, valdata)\n",
        "        accuracy += Accuracy(vallabel, valpred)\n",
        "    return accuracy / iterations"
      ],
      "metadata": {
        "id": "YMS7XAYe4Atr"
      },
      "execution_count": null,
      "outputs": []
    },
    {
      "cell_type": "code",
      "source": [
        "avg_acc = AverageAccuracy(alltraindata, alltrainlabel, 75 / 100, 10, classifier=NN)\n",
        "print(\"Average validation accuracy:\", avg_acc*100, \"%\")\n",
        "testpred = NN(alltraindata, alltrainlabel, testdata)\n",
        "\n",
        "print(\"Test accuracy:\", Accuracy(testlabel, testpred)*100, \"%\")"
      ],
      "metadata": {
        "colab": {
          "base_uri": "https://localhost:8080/"
        },
        "id": "JmCMiVy64Rd6",
        "outputId": "5c0ac099-3d23-4036-cf7f-16bfbd9dcf85"
      },
      "execution_count": null,
      "outputs": [
        {
          "output_type": "stream",
          "name": "stdout",
          "text": [
            "Average validation accuracy: 34.173168717771965 %\n",
            "Test accuracy: 34.893928310168256 %\n"
          ]
        }
      ]
    },
    {
      "cell_type": "code",
      "source": [],
      "metadata": {
        "id": "JXjEoYI44TbQ"
      },
      "execution_count": null,
      "outputs": []
    },
    {
      "source": [
        "def experiment_consistency(data, label, split_percent, iterations, classifier):\n",
        "    accuracies = []\n",
        "    for _ in range(iterations):\n",
        "        traindata, trainlabel, valdata, vallabel = split(data, label, split_percent)\n",
        "        valpred = classifier(traindata, trainlabel, valdata)\n",
        "        accuracies.append(Accuracy(vallabel, valpred))\n",
        "    return np.mean(accuracies), np.std(accuracies)\n",
        "\n",
        "print(\"Experimenting with consistency:\")\n",
        "mean_acc_single, std_acc_single = experiment_consistency(alltraindata, alltrainlabel, 75 / 100, 1, classifier=NN)\n",
        "mean_acc_multi, std_acc_multi = experiment_consistency(alltraindata, alltrainlabel, 75 / 100, 10, classifier=NN)\n",
        "\n",
        "print(f\"Single split accuracy (mean, std): ({mean_acc_single:.4f}, {std_acc_single:.4f})\")\n",
        "print(f\"Multiple splits accuracy (mean, std over 10 iterations): ({mean_acc_multi:.4f}, {std_acc_multi:.4f})\")\n",
        "print(\"Observe that the standard deviation for multiple splits is likely lower, indicating more consistency.\")\n",
        "\n",
        "avg_val_acc = AverageAccuracy(alltraindata, alltrainlabel, 75 / 100, 10, classifier=NN)\n",
        "print(f\"\\nAverage validation accuracy over 10 iterations: {avg_val_acc*100:.2f}%\")\n",
        "\n",
        "testpred = NN(alltraindata, alltrainlabel, testdata)\n",
        "testAccuracy = Accuracy(testlabel, testpred)\n",
        "print(f\"Test accuracy: {testAccuracy*100:.2f}%\")\n",
        "print(\"The average validation accuracy is likely closer to the test accuracy than a single validation run.\")\n",
        "\n",
        "\n",
        "iterations_list = [1, 5, 10, 50, 100]\n",
        "avg_accuracies = []\n",
        "\n",
        "print(\"\\nExperimenting with number of iterations:\")\n",
        "for iterations in iterations_list:\n",
        "    avg_acc = AverageAccuracy(alltraindata, alltrainlabel, 75 / 100, iterations, classifier=NN)\n",
        "    avg_accuracies.append(avg_acc)\n",
        "    print(f\"Average validation accuracy with {iterations} iterations: {avg_acc*100:.2f}%\")\n",
        "\n",
        "\n",
        "plt.figure(figsize=(8, 5))\n",
        "plt.plot(iterations_list, avg_accuracies, marker='o')\n",
        "plt.xlabel('Number of Iterations')\n",
        "plt.ylabel('Average Validation Accuracy')\n",
        "plt.title('Average Validation Accuracy vs. Number of Iterations')\n",
        "plt.grid(True)\n",
        "plt.show()\n",
        "print(\"As the number of iterations increases, the average validation accuracy estimate tends to stabilize.\")\n",
        "\n",
        "print(\"\\nCan we deal with a very small train/validation dataset by increasing iterations?\")\n",
        "print(\"Increasing iterations helps stabilize the estimate for a given dataset size (reducing variance of the estimate).\")\n",
        "print(\"However, it cannot fully compensate for a dataset that is too small for the model to learn effectively (affecting bias).\")\n",
        "print(\"A small training set limits the model's ability to generalize.\")\n",
        "print(\"A small validation set might not be representative of the test data.\")\n",
        "print(\"Therefore, while useful, increasing iterations alone cannot overcome the limitations of insufficient data.\")"
      ],
      "cell_type": "code",
      "metadata": {
        "colab": {
          "base_uri": "https://localhost:8080/",
          "height": 898
        },
        "id": "TJUU2wxX4dv7",
        "outputId": "f14ecc6d-e426-4361-c7aa-52a7fbcdaad8"
      },
      "execution_count": null,
      "outputs": [
        {
          "output_type": "stream",
          "name": "stdout",
          "text": [
            "Experimenting with consistency:\n",
            "Single split accuracy (mean, std): (0.3540, 0.0000)\n",
            "Multiple splits accuracy (mean, std over 10 iterations): (0.3398, 0.0047)\n",
            "Observe that the standard deviation for multiple splits is likely lower, indicating more consistency.\n",
            "\n",
            "Average validation accuracy over 10 iterations: 34.10%\n",
            "Test accuracy: 34.89%\n",
            "The average validation accuracy is likely closer to the test accuracy than a single validation run.\n",
            "\n",
            "Experimenting with number of iterations:\n",
            "Average validation accuracy with 1 iterations: 33.63%\n",
            "Average validation accuracy with 5 iterations: 33.92%\n",
            "Average validation accuracy with 10 iterations: 34.20%\n",
            "Average validation accuracy with 50 iterations: 34.06%\n",
            "Average validation accuracy with 100 iterations: 34.15%\n"
          ]
        },
        {
          "output_type": "display_data",
          "data": {
            "text/plain": [
              "<Figure size 800x500 with 1 Axes>"
            ],
            "image/png": "[encoded data removed]"
          },
          "metadata": {}
        },
        {
          "output_type": "stream",
          "name": "stdout",
          "text": [
            "As the number of iterations increases, the average validation accuracy estimate tends to stabilize.\n",
            "\n",
            "Can we deal with a very small train/validation dataset by increasing iterations?\n",
            "Increasing iterations helps stabilize the estimate for a given dataset size (reducing variance of the estimate).\n",
            "However, it cannot fully compensate for a dataset that is too small for the model to learn effectively (affecting bias).\n",
            "A small training set limits the model's ability to generalize.\n",
            "A small validation set might not be representative of the test data.\n",
            "Therefore, while useful, increasing iterations alone cannot overcome the limitations of insufficient data.\n"
          ]
        }
      ]
    },
    {
      "cell_type": "markdown",
      "source": [
        "## Exercise:\n",
        ">How does the accuracy of the 3 nearest neighbour classifier change with the number of splits? How is it affected by the split size? Compare the results with the 1 nearest neighbour classifier."
      ],
      "metadata": {
        "id": "-x2yPZRN59ec"
      }
    },
    {
      "source": [
        "def NNK(traindata, trainlabel, query, k):\n",
        "    dist = np.linalg.norm(traindata - query, axis=1)\n",
        "    # Get indices of the k nearest neighbors\n",
        "    nearest_indices = np.argsort(dist)[:k]\n",
        "    # Get the labels of the k nearest neighbors\n",
        "    nearest_labels = trainlabel[nearest_indices]\n",
        "    # Find the most frequent label among the k neighbors\n",
        "    unique_labels, counts = np.unique(nearest_labels, return_counts=True)\n",
        "    return unique_labels[np.argmax(counts)]\n",
        "\n",
        "def NNK_Classifier(traindata, trainlabel, testdata, k):\n",
        "    predlabel = np.array([NNK(traindata, trainlabel, i, k) for i in testdata])\n",
        "    return predlabel"
      ],
      "cell_type": "code",
      "metadata": {
        "id": "09sBoMmj4zgE"
      },
      "execution_count": null,
      "outputs": []
    },
    {
      "source": [
        "def AverageAccuracyNNK(alldata, alllabel, splitpercent, iterations, k):\n",
        "    accuracy = 0\n",
        "    for ii in range(iterations):\n",
        "        traindata, trainlabel, valdata, vallabel = split(\n",
        "            alldata, alllabel, splitpercent\n",
        "        )\n",
        "        valpred = NNK_Classifier(traindata, trainlabel, valdata, k)\n",
        "        accuracy += Accuracy(vallabel, valpred)\n",
        "    return accuracy / iterations"
      ],
      "cell_type": "code",
      "metadata": {
        "id": "UFMUBfy54z9v"
      },
      "execution_count": null,
      "outputs": []
    },
    {
      "source": [
        "split_percentage = 75 / 100\n",
        "iterations_list = [1, 5, 10, 50, 100]\n",
        "nn1_avg_accuracies_iterations = []\n",
        "nn3_avg_accuracies_iterations = []\n",
        "\n",
        "print(\"Experimenting with number of splits:\")\n",
        "for iterations in iterations_list:\n",
        "    avg_acc_nn1 = AverageAccuracyNNK(alltraindata, alltrainlabel, split_percentage, iterations, k=1)\n",
        "    nn1_avg_accuracies_iterations.append(avg_acc_nn1)\n",
        "    avg_acc_nn3 = AverageAccuracyNNK(alltraindata, alltrainlabel, split_percentage, iterations, k=3)\n",
        "    nn3_avg_accuracies_iterations.append(avg_acc_nn3)\n",
        "    print(f\"Iterations: {iterations}, NN-1 Avg Accuracy: {avg_acc_nn1*100:.2f}%, NN-3 Avg Accuracy: {avg_acc_nn3*100:.2f}%\")\n",
        "\n",
        "plt.figure(figsize=(10, 6))\n",
        "plt.plot(iterations_list, nn1_avg_accuracies_iterations, marker='o', label='NN-1')\n",
        "plt.plot(iterations_list, nn3_avg_accuracies_iterations, marker='o', label='NN-3')\n",
        "plt.xlabel('Number of Splits (Iterations)')\n",
        "plt.ylabel('Average Validation Accuracy')\n",
        "plt.title('Average Validation Accuracy vs. Number of Splits (Split Size 75%)')\n",
        "plt.legend()\n",
        "plt.grid(True)\n",
        "plt.show()\n",
        "\n",
        "split_percentages = [10, 20, 30, 40, 50, 60, 70, 80, 90]\n",
        "iterations = 10\n",
        "nn1_avg_accuracies_split = []\n",
        "nn3_avg_accuracies_split = []\n",
        "\n",
        "print(\"\\nExperimenting with split size:\")\n",
        "for split_percent in split_percentages:\n",
        "    avg_acc_nn1 = AverageAccuracyNNK(alltraindata, alltrainlabel, split_percent / 100, iterations, k=1)\n",
        "    nn1_avg_accuracies_split.append(avg_acc_nn1)\n",
        "    avg_acc_nn3 = AverageAccuracyNNK(alltraindata, alltrainlabel, split_percent / 100, iterations, k=3)\n",
        "    nn3_avg_accuracies_split.append(avg_acc_nn3)\n",
        "    print(f\"Split Percentage: {split_percent}%, NN-1 Avg Accuracy: {avg_acc_nn1*100:.2f}%, NN-3 Avg Accuracy: {avg_acc_nn3*100:.2f}%\")\n",
        "\n",
        "plt.figure(figsize=(10, 6))\n",
        "plt.plot(split_percentages, nn1_avg_accuracies_split, marker='o', label='NN-1')\n",
        "plt.plot(split_percentages, nn3_avg_accuracies_split, marker='o', label='NN-3')\n",
        "plt.xlabel('Validation Set Percentage')\n",
        "plt.ylabel('Average Validation Accuracy (10 Iterations)')\n",
        "plt.title('Average Validation Accuracy vs. Validation Set Percentage')\n",
        "plt.legend()\n",
        "plt.grid(True)\n",
        "plt.show()"
      ],
      "cell_type": "code",
      "metadata": {
        "colab": {
          "base_uri": "https://localhost:8080/"
        },
        "id": "IILP5Tsm40Yz",
        "outputId": "6eed0abe-a82d-4597-847f-03aaeedcbfca"
      },
      "execution_count": null,
      "outputs": [
        {
          "metadata": {
            "tags": null
          },
          "name": "stdout",
          "output_type": "stream",
          "text": [
            "Experimenting with number of splits:\n",
            "Iterations: 1, NN-1 Avg Accuracy: 34.22%, NN-3 Avg Accuracy: 34.24%\n",
            "Iterations: 5, NN-1 Avg Accuracy: 34.14%, NN-3 Avg Accuracy: 34.32%\n",
            "Iterations: 10, NN-1 Avg Accuracy: 34.08%, NN-3 Avg Accuracy: 34.47%\n",
            "Iterations: 50, NN-1 Avg Accuracy: 34.08%, NN-3 Avg Accuracy: 34.26%\n"
          ]
        }
      ]
    },
    {
      "cell_type": "code",
      "source": [],
      "metadata": {
        "id": "S-s5DEc17oLK"
      },
      "execution_count": null,
      "outputs": []
    }
  ]
}